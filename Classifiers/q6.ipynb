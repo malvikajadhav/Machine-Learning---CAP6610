{
 "cells": [
  {
   "cell_type": "markdown",
   "id": "8870f256",
   "metadata": {},
   "source": [
    "# Q6"
   ]
  },
  {
   "cell_type": "code",
   "execution_count": 1,
   "id": "8fd8361f",
   "metadata": {},
   "outputs": [
    {
     "data": {
      "text/html": [
       "<div>\n",
       "<style scoped>\n",
       "    .dataframe tbody tr th:only-of-type {\n",
       "        vertical-align: middle;\n",
       "    }\n",
       "\n",
       "    .dataframe tbody tr th {\n",
       "        vertical-align: top;\n",
       "    }\n",
       "\n",
       "    .dataframe thead th {\n",
       "        text-align: right;\n",
       "    }\n",
       "</style>\n",
       "<table border=\"1\" class=\"dataframe\">\n",
       "  <thead>\n",
       "    <tr style=\"text-align: right;\">\n",
       "      <th></th>\n",
       "      <th>wordIndex</th>\n",
       "      <th>count</th>\n",
       "    </tr>\n",
       "  </thead>\n",
       "  <tbody>\n",
       "    <tr>\n",
       "      <th>0</th>\n",
       "      <td>1</td>\n",
       "      <td>317</td>\n",
       "    </tr>\n",
       "    <tr>\n",
       "      <th>1</th>\n",
       "      <td>2</td>\n",
       "      <td>1364</td>\n",
       "    </tr>\n",
       "    <tr>\n",
       "      <th>2</th>\n",
       "      <td>3</td>\n",
       "      <td>300</td>\n",
       "    </tr>\n",
       "    <tr>\n",
       "      <th>3</th>\n",
       "      <td>4</td>\n",
       "      <td>226</td>\n",
       "    </tr>\n",
       "    <tr>\n",
       "      <th>4</th>\n",
       "      <td>5</td>\n",
       "      <td>327</td>\n",
       "    </tr>\n",
       "    <tr>\n",
       "      <th>...</th>\n",
       "      <td>...</td>\n",
       "      <td>...</td>\n",
       "    </tr>\n",
       "    <tr>\n",
       "      <th>53970</th>\n",
       "      <td>53971</td>\n",
       "      <td>1</td>\n",
       "    </tr>\n",
       "    <tr>\n",
       "      <th>53971</th>\n",
       "      <td>53972</td>\n",
       "      <td>1</td>\n",
       "    </tr>\n",
       "    <tr>\n",
       "      <th>53972</th>\n",
       "      <td>53973</td>\n",
       "      <td>1</td>\n",
       "    </tr>\n",
       "    <tr>\n",
       "      <th>53973</th>\n",
       "      <td>53974</td>\n",
       "      <td>1</td>\n",
       "    </tr>\n",
       "    <tr>\n",
       "      <th>53974</th>\n",
       "      <td>53975</td>\n",
       "      <td>1</td>\n",
       "    </tr>\n",
       "  </tbody>\n",
       "</table>\n",
       "<p>53975 rows × 2 columns</p>\n",
       "</div>"
      ],
      "text/plain": [
       "       wordIndex  count\n",
       "0              1    317\n",
       "1              2   1364\n",
       "2              3    300\n",
       "3              4    226\n",
       "4              5    327\n",
       "...          ...    ...\n",
       "53970      53971      1\n",
       "53971      53972      1\n",
       "53972      53973      1\n",
       "53973      53974      1\n",
       "53974      53975      1\n",
       "\n",
       "[53975 rows x 2 columns]"
      ]
     },
     "execution_count": 1,
     "metadata": {},
     "output_type": "execute_result"
    }
   ],
   "source": [
    "import numpy as np \n",
    "import pandas as pd \n",
    "from sklearn.feature_extraction.text import TfidfVectorizer \n",
    "from sklearn.datasets import fetch_20newsgroups \n",
    "from sklearn.feature_extraction.text import CountVectorizer \n",
    "train_data = open('20news-bydate/matlab/train.data') \n",
    "test_data = open('20news-bydate/matlab/test.data')\n",
    "df_data = pd.read_csv(train_data, delimiter=' ', names=['docIndex', 'wordIndex', 'count']) \n",
    "df_wordIndex_cnt=df_data.groupby(by=df_data['wordIndex'], as_index=False).agg({'count': 'sum'}) \n",
    "df_wordIndex_cnt"
   ]
  },
  {
   "cell_type": "code",
   "execution_count": 2,
   "id": "7ff985a0",
   "metadata": {},
   "outputs": [
    {
     "data": {
      "text/html": [
       "<div>\n",
       "<style scoped>\n",
       "    .dataframe tbody tr th:only-of-type {\n",
       "        vertical-align: middle;\n",
       "    }\n",
       "\n",
       "    .dataframe tbody tr th {\n",
       "        vertical-align: top;\n",
       "    }\n",
       "\n",
       "    .dataframe thead th {\n",
       "        text-align: right;\n",
       "    }\n",
       "</style>\n",
       "<table border=\"1\" class=\"dataframe\">\n",
       "  <thead>\n",
       "    <tr style=\"text-align: right;\">\n",
       "      <th></th>\n",
       "      <th>wordIndex</th>\n",
       "      <th>count</th>\n",
       "    </tr>\n",
       "  </thead>\n",
       "  <tbody>\n",
       "    <tr>\n",
       "      <th>1</th>\n",
       "      <td>2</td>\n",
       "      <td>1364</td>\n",
       "    </tr>\n",
       "    <tr>\n",
       "      <th>5</th>\n",
       "      <td>6</td>\n",
       "      <td>1832</td>\n",
       "    </tr>\n",
       "    <tr>\n",
       "      <th>8</th>\n",
       "      <td>9</td>\n",
       "      <td>1002</td>\n",
       "    </tr>\n",
       "    <tr>\n",
       "      <th>11</th>\n",
       "      <td>12</td>\n",
       "      <td>64170</td>\n",
       "    </tr>\n",
       "    <tr>\n",
       "      <th>15</th>\n",
       "      <td>16</td>\n",
       "      <td>11109</td>\n",
       "    </tr>\n",
       "    <tr>\n",
       "      <th>...</th>\n",
       "      <td>...</td>\n",
       "      <td>...</td>\n",
       "    </tr>\n",
       "    <tr>\n",
       "      <th>4322</th>\n",
       "      <td>4323</td>\n",
       "      <td>1119</td>\n",
       "    </tr>\n",
       "    <tr>\n",
       "      <th>5265</th>\n",
       "      <td>5266</td>\n",
       "      <td>1009</td>\n",
       "    </tr>\n",
       "    <tr>\n",
       "      <th>7259</th>\n",
       "      <td>7260</td>\n",
       "      <td>1246</td>\n",
       "    </tr>\n",
       "    <tr>\n",
       "      <th>10267</th>\n",
       "      <td>10268</td>\n",
       "      <td>1693</td>\n",
       "    </tr>\n",
       "    <tr>\n",
       "      <th>10676</th>\n",
       "      <td>10677</td>\n",
       "      <td>1082</td>\n",
       "    </tr>\n",
       "  </tbody>\n",
       "</table>\n",
       "<p>292 rows × 2 columns</p>\n",
       "</div>"
      ],
      "text/plain": [
       "       wordIndex  count\n",
       "1              2   1364\n",
       "5              6   1832\n",
       "8              9   1002\n",
       "11            12  64170\n",
       "15            16  11109\n",
       "...          ...    ...\n",
       "4322        4323   1119\n",
       "5265        5266   1009\n",
       "7259        7260   1246\n",
       "10267      10268   1693\n",
       "10676      10677   1082\n",
       "\n",
       "[292 rows x 2 columns]"
      ]
     },
     "execution_count": 2,
     "metadata": {},
     "output_type": "execute_result"
    }
   ],
   "source": [
    "# segregating most common words\n",
    "df_most_common_words = df_wordIndex_cnt[df_wordIndex_cnt['count'] > 1000] \n",
    "df_most_common_words"
   ]
  },
  {
   "cell_type": "markdown",
   "id": "6e83af72",
   "metadata": {},
   "source": [
    "### As mentioned in the question we got close to 300 words that appear more that 1000 times "
   ]
  },
  {
   "cell_type": "code",
   "execution_count": 3,
   "id": "df4ca96f",
   "metadata": {},
   "outputs": [],
   "source": [
    "from sklearn import metrics \n",
    "from sklearn.metrics import confusion_matrix \n",
    "from sklearn.metrics import classification_report \n",
    "from sklearn.naive_bayes import MultinomialNB \n",
    "from sklearn.naive_bayes import BernoulliNB "
   ]
  },
  {
   "cell_type": "code",
   "execution_count": 5,
   "id": "061a58ab",
   "metadata": {},
   "outputs": [],
   "source": [
    "termIndices = df_most_common_words.wordIndex.values \n",
    "vocab=[] \n",
    "with open('20news-bydate/matlab/vocabulary.txt') as f: \n",
    "    for x in f: \n",
    "        vocab.append(x[:-1]) \n",
    "myVocab=[vocab[i-1] for i in termIndices] \n",
    "train_set = fetch_20newsgroups(subset='train') \n",
    "sparse = CountVectorizer(vocabulary=myVocab) \n",
    "train_data = sparse.fit_transform(train_set.data) \n",
    "test_set = fetch_20newsgroups(subset='test') \n",
    "test_data = sparse.transform(test_set.data) "
   ]
  },
  {
   "cell_type": "markdown",
   "id": "1bc93590",
   "metadata": {},
   "source": [
    "## 6(a) Bernoulli Naive Bayes"
   ]
  },
  {
   "cell_type": "code",
   "execution_count": 22,
   "id": "7b180db1",
   "metadata": {},
   "outputs": [
    {
     "name": "stdout",
     "output_type": "stream",
     "text": [
      "Test accuracy obtained :  59.58 %\n"
     ]
    }
   ],
   "source": [
    "sparse = CountVectorizer(vocabulary=myVocab,binary=True) \n",
    "train = sparse.fit_transform(train_set.data) \n",
    "test_set = fetch_20newsgroups(subset='test',shuffle=False) \n",
    "test = sparse.transform(test_set.data) \n",
    "bernoulli_classifier = BernoulliNB(alpha=0.01) \n",
    "bernoulli_classifier.fit(train, train_set.target) \n",
    "predictions = bernoulli_classifier.predict(test) \n",
    "print(\"Test accuracy obtained : \",round(100*metrics.accuracy_score(test_set.target, predictions),2),\"%\")"
   ]
  },
  {
   "cell_type": "markdown",
   "id": "c29fad61",
   "metadata": {},
   "source": [
    "## 6(b) Multinomial Naive Bayes"
   ]
  },
  {
   "cell_type": "code",
   "execution_count": 26,
   "id": "b8f12861",
   "metadata": {},
   "outputs": [
    {
     "name": "stdout",
     "output_type": "stream",
     "text": [
      "Test accuracy obtained : 71.29 %\n"
     ]
    }
   ],
   "source": [
    "multinomial_classifier = MultinomialNB(alpha=0.01) \n",
    "multinomial_classifier.fit(train, train_set.target) \n",
    "predictions = multinomial_classifier.predict(test) \n",
    "print(\"Test accuracy obtained :\",round(100*metrics.accuracy_score(test_set.target, predictions),2),\"%\")"
   ]
  },
  {
   "cell_type": "markdown",
   "id": "b1f6138b",
   "metadata": {},
   "source": [
    "## 6(c) LDA"
   ]
  },
  {
   "cell_type": "code",
   "execution_count": 37,
   "id": "aac7e5ea",
   "metadata": {},
   "outputs": [
    {
     "name": "stdout",
     "output_type": "stream",
     "text": [
      "Test accuracy obtained : 73.55 %\n"
     ]
    }
   ],
   "source": [
    "from sklearn.discriminant_analysis import LinearDiscriminantAnalysis \n",
    "from sklearn.multiclass import OneVsRestClassifier \n",
    "tfidf = TfidfVectorizer(vocabulary=myVocab) \n",
    "train = tfidf.fit_transform(train_set.data) \n",
    "test_set = fetch_20newsgroups(subset='test') \n",
    "test = tfidf.transform(test_set.data) \n",
    "model = LinearDiscriminantAnalysis(solver='svd') \n",
    "model.fit(train.toarray(),train_set.target) \n",
    "predictions =model.predict(test.toarray()) \n",
    "print(\"Test accuracy obtained :\",round(100*metrics.accuracy_score(test_set.target, predictions),2),\"%\")"
   ]
  },
  {
   "cell_type": "markdown",
   "id": "e13519b4",
   "metadata": {},
   "source": [
    "## 6(d) Least squares classifier"
   ]
  },
  {
   "cell_type": "code",
   "execution_count": 36,
   "id": "2f808feb",
   "metadata": {},
   "outputs": [
    {
     "name": "stdout",
     "output_type": "stream",
     "text": [
      "Test accuracy obtained : 77.18 %\n"
     ]
    }
   ],
   "source": [
    "from sklearn.linear_model import LogisticRegression \n",
    "model = LogisticRegression(C=1.0, penalty='l1', dual=False, solver='liblinear')\n",
    "\n",
    "model = OneVsRestClassifier(model) \n",
    "model.fit(train,train_set.target) \n",
    "predictions =model.predict(test.toarray()) \n",
    "print(\"Test accuracy obtained :\",round(100*metrics.accuracy_score(test_set.target, predictions),2),\"%\")"
   ]
  }
 ],
 "metadata": {
  "kernelspec": {
   "display_name": "Python 3",
   "language": "python",
   "name": "python3"
  },
  "language_info": {
   "codemirror_mode": {
    "name": "ipython",
    "version": 3
   },
   "file_extension": ".py",
   "mimetype": "text/x-python",
   "name": "python",
   "nbconvert_exporter": "python",
   "pygments_lexer": "ipython3",
   "version": "3.8.8"
  }
 },
 "nbformat": 4,
 "nbformat_minor": 5
}
