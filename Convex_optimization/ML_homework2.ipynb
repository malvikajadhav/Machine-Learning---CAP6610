{
 "cells": [
  {
   "cell_type": "markdown",
   "id": "55efbb47",
   "metadata": {},
   "source": [
    "# Q5"
   ]
  },
  {
   "cell_type": "code",
   "execution_count": 37,
   "id": "f2ccccce",
   "metadata": {},
   "outputs": [],
   "source": [
    "using DelimitedFiles, Convex, SCS"
   ]
  },
  {
   "cell_type": "code",
   "execution_count": 38,
   "id": "aad7d564",
   "metadata": {},
   "outputs": [],
   "source": [
    "wine_data = readdlm(\"winequality-red.csv\", ';', Float64, skipstart=1);"
   ]
  },
  {
   "cell_type": "code",
   "execution_count": 39,
   "id": "df6a94a9",
   "metadata": {},
   "outputs": [],
   "source": [
    "Y = wine_data[:, 12]\n",
    "X = wine_data[:, 1:11];"
   ]
  },
  {
   "cell_type": "code",
   "execution_count": 40,
   "id": "6051591f",
   "metadata": {},
   "outputs": [
    {
     "data": {
      "text/plain": [
       "12×1 Matrix{Float64}:\n",
       "   0.02329876002903944\n",
       "  -1.0762050522637037\n",
       "  -0.1452817271412922\n",
       "   0.006569057673688157\n",
       "  -1.8254194334176277\n",
       "   0.0034154908282525913\n",
       "  -0.0034275751572619166\n",
       " -14.95044577183303\n",
       "  -0.29189594818793224\n",
       "   0.873197346652471\n",
       "   0.27765633249787985\n",
       "  18.70970670509345"
      ]
     },
     "execution_count": 40,
     "metadata": {},
     "output_type": "execute_result"
    }
   ],
   "source": [
    "train_X = X[1:1400, :]\n",
    "train_Y = Y[1:1400, :]\n",
    "test_X = X[1401:1599, :]\n",
    "test_Y = Y[1401:1599, :]\n",
    "train_X = [train_X ones(1400, 1)]\n",
    "test_X = [test_X ones(199, 1)]\n",
    "weight = train_X\\train_Y"
   ]
  },
  {
   "cell_type": "code",
   "execution_count": 41,
   "id": "42095960",
   "metadata": {},
   "outputs": [
    {
     "name": "stderr",
     "output_type": "stream",
     "text": [
      "┌ Warning: Problem status ALMOST_OPTIMAL; solution may be inaccurate.\n",
      "└ @ Convex C:\\Users\\Malvika\\.julia\\packages\\Convex\\uI27T\\src\\solution.jl:263\n"
     ]
    },
    {
     "data": {
      "text/plain": [
       "0.5482098002865922"
      ]
     },
     "execution_count": 41,
     "metadata": {},
     "output_type": "execute_result"
    }
   ],
   "source": [
    "least_square_loss = (sum(abs.(test_X * weight - test_Y)))/199\n",
    "β_huber = Variable(12)\n",
    "cost = sum(huber(train_X * β_huber - train_Y));\n",
    "solve!(minimize(cost), ()->SCS.Optimizer(verbose=0))\n",
    "hub_loss = (sum(abs.(test_X * β_huber.value - test_Y)))/199\n",
    "hinge(x) = max(abs(x)-0.5, 0)\n",
    "β_hinge = Variable(12)\n",
    "cost = sum(hinge(train_X * β_hinge - train_Y));\n",
    "solve!(minimize(cost), ()->SCS.Optimizer(verbose=0))\n",
    "hinge_loss = (sum(abs.(test_X * β_hinge.value - test_Y)))/199"
   ]
  },
  {
   "cell_type": "code",
   "execution_count": 42,
   "id": "2c46c7b6",
   "metadata": {},
   "outputs": [
    {
     "name": "stdout",
     "output_type": "stream",
     "text": [
      "For least square loss Mean Absolution Error(MAE) is 0.5329671066366277\n",
      "______________________________________________________________________________\n",
      "For huber loss Mean Absolution Error(MAE) is 0.5327150885601937\n",
      "______________________________________________________________________________\n",
      "For hinge loss Mean Absolution Error(MAE) is 0.5482098002865922\n",
      "______________________________________________________________________________\n"
     ]
    }
   ],
   "source": [
    "print(\"For least square loss Mean Absolution Error(MAE) is \", least_square_loss, \"\\n\")\n",
    "print(\"______________________________________________________________________________\\n\")\n",
    "print(\"For huber loss Mean Absolution Error(MAE) is \", hub_loss, \"\\n\")\n",
    "print(\"______________________________________________________________________________\\n\")\n",
    "print(\"For hinge loss Mean Absolution Error(MAE) is \", hinge_loss, \"\\n\")\n",
    "print(\"______________________________________________________________________________\\n\")"
   ]
  },
  {
   "cell_type": "markdown",
   "id": "bae957f1",
   "metadata": {},
   "source": [
    "# Q6"
   ]
  },
  {
   "cell_type": "code",
   "execution_count": 43,
   "id": "8bdcacc8",
   "metadata": {},
   "outputs": [
    {
     "data": {
      "text/plain": [
       "351×34 Matrix{Float64}:\n",
       " 1.0  0.0   0.99539  -0.05889   0.85243  …  -0.54487   0.18641  -0.453\n",
       " 1.0  0.0   1.0      -0.18829   0.93035     -0.06288  -0.13738  -0.02447\n",
       " 1.0  0.0   1.0      -0.03365   1.0         -0.2418    0.56045  -0.38238\n",
       " 1.0  0.0   1.0      -0.45161   1.0          1.0      -0.32382   1.0\n",
       " 1.0  0.0   1.0      -0.02401   0.9414      -0.59573  -0.04608  -0.65697\n",
       " 1.0  0.0   0.02337  -0.00592  -0.09924  …   0.0      -0.00039   0.12011\n",
       " 1.0  0.0   0.97588  -0.10602   0.94601     -0.81318  -0.13832  -0.80975\n",
       " 0.0  0.0   0.0       0.0       0.0          1.0       0.0       0.0\n",
       " 1.0  0.0   0.96355  -0.07198   1.0         -0.72779   0.38895  -0.7342\n",
       " 1.0  0.0  -0.01864  -0.08459   0.0          0.24086  -0.08208   0.38065\n",
       " 1.0  0.0   1.0       0.06655   1.0      …  -0.89093   0.22995  -0.89158\n",
       " 1.0  0.0   1.0      -0.5421    1.0         -1.0       1.0      -1.0\n",
       " 1.0  0.0   1.0      -0.16316   1.0         -0.64537   0.64727  -0.67226\n",
       " ⋮                                       ⋱                      \n",
       " 1.0  0.0   0.65845   0.43617   0.44681      0.76764  -0.18533   0.74356\n",
       " 1.0  0.0   0.19466   0.05725   0.04198  …   0.16794  -0.30153  -0.33588\n",
       " 1.0  0.0   0.98002   0.00075   1.0          0.08126   0.97247   0.08616\n",
       " 1.0  0.0   0.82254  -0.07572   0.80462     -0.0422    0.78439   0.01214\n",
       " 1.0  0.0   0.35346  -0.13768   0.69387     -0.08637   0.28943  -0.083\n",
       " 1.0  0.0   0.76046   0.01092   0.86335      0.01484   0.63887   0.01525\n",
       " 1.0  0.0   0.66667  -0.01366   0.97404  …   0.2459    0.13934   0.48087\n",
       " 1.0  0.0   0.83508   0.08298   0.73739     -0.10714   0.90546  -0.04307\n",
       " 1.0  0.0   0.95113   0.00419   0.95183     -0.00035   0.91483   0.04712\n",
       " 1.0  0.0   0.94701  -0.00034   0.93207      0.00442   0.92697  -0.00577\n",
       " 1.0  0.0   0.90608  -0.01657   0.98122     -0.03757   0.87403  -0.16243\n",
       " 1.0  0.0   0.8471    0.13533   0.73638  …  -0.06678   0.85764  -0.06151"
      ]
     },
     "execution_count": 43,
     "metadata": {},
     "output_type": "execute_result"
    }
   ],
   "source": [
    "using CSV, DataFrames, Convex, SCS\n",
    "iono_data = DataFrame(CSV.File(\"ionosphere.data\";header=0))\n",
    "Y = ones(351,1)\n",
    "for i in 1:351\n",
    "    if iono_data[i,35]==\"g\"\n",
    "        Y[i] = 1\n",
    "    else\n",
    "        Y[i] = -1\n",
    "    end\n",
    "end\n",
    "iono_data = Matrix(iono_data)\n",
    "X = iono_data[:,1:34]\n",
    "X = convert(Array{Float64,2}, X)"
   ]
  },
  {
   "cell_type": "code",
   "execution_count": 44,
   "id": "58a79057",
   "metadata": {},
   "outputs": [
    {
     "name": "stdout",
     "output_type": "stream",
     "text": [
      "Least square loss \n",
      "-----------------------------\n",
      "Prediction accuracy: 100.0% \n"
     ]
    }
   ],
   "source": [
    "train_x = X[1:300,:]\n",
    "train_y = Y[1:300,:]\n",
    "test_x = X[301:351,:]\n",
    "test_y = Y[301:351,:]\n",
    "train_x = [train_x ones(300,1)]\n",
    "test_x = [test_x ones(51,1)]\n",
    "ω = train_x\\train_y\n",
    "actual = 0\n",
    "for i in 1:51\n",
    "    predicted = dot(test_x[i,:],ω)\n",
    "    if predicted > 0 && test_y[i]>0\n",
    "        actual = actual + 1\n",
    "    end\n",
    "    if predicted < 0 && test_y[i,:]<0\n",
    "        actual = actual + 1\n",
    "    end\n",
    "end\n",
    "print(\"Least square loss \\n-----------------------------\\nPrediction accuracy: \",(actual/51)*100,\"% \\n\")"
   ]
  },
  {
   "cell_type": "code",
   "execution_count": 45,
   "id": "e525aff6",
   "metadata": {},
   "outputs": [
    {
     "name": "stdout",
     "output_type": "stream",
     "text": [
      "Logistic loss \n",
      "-----------------------------\n",
      "Prediction accuracy: 100.0% \n",
      "WARN: A->p (column pointers) not strictly increasing, column 1 empty\n"
     ]
    }
   ],
   "source": [
    "β_logistic = Variable(35)\n",
    "cost = sum(logisticloss(-train_y.*(train_x*β_logistic)))\n",
    "solve!(minimize(cost), ()-> SCS.Optimizer(verbose=0))\n",
    "actual = 0\n",
    "for i in 1:51\n",
    "    predicted = dot(test_x[i,:],β_logistic.value)\n",
    "    if predicted > 0 && test_y[i]>0\n",
    "        actual = actual + 1\n",
    "    end\n",
    "    if predicted < 0 && test_y[i,:]<0\n",
    "        actual = actual + 1\n",
    "    end\n",
    "end\n",
    "print(\"Logistic loss \\n-----------------------------\\nPrediction accuracy: \",(actual/51)*100,\"% \\n\")"
   ]
  },
  {
   "cell_type": "code",
   "execution_count": 46,
   "id": "9e16ff2d",
   "metadata": {},
   "outputs": [
    {
     "name": "stdout",
     "output_type": "stream",
     "text": [
      "Hinge Loss \n",
      "-----------------------------\n",
      "Prediction accuracy: 100.0% \n",
      "WARN: A->p (column pointers) not strictly increasing, column 301 empty\n"
     ]
    }
   ],
   "source": [
    "hinge(y,t) = max(1-y.*t,0)\n",
    "beta_hinge = Variable(35)\n",
    "cost = sum(hinge(train_y,train_x*beta_hinge))\n",
    "solve!(minimize(cost), ()-> SCS.Optimizer(verbose=0))\n",
    "actual = 0\n",
    "for i in 1:51\n",
    "    predicted = dot(test_x[i,:],beta_hinge.value)\n",
    "    if predicted > 0 && test_y[i]>0\n",
    "        actual = actual + 1\n",
    "    end\n",
    "    if predicted < 0 && test_y[i,:]<0\n",
    "        actual = actual + 1\n",
    "    end\n",
    "end\n",
    "print(\"Hinge Loss \\n-----------------------------\\nPrediction accuracy: \",(actual/51)*100,\"% \\n\")"
   ]
  }
 ],
 "metadata": {
  "kernelspec": {
   "display_name": "Julia 1.7.2",
   "language": "julia",
   "name": "julia-1.7"
  },
  "language_info": {
   "file_extension": ".jl",
   "mimetype": "application/julia",
   "name": "julia",
   "version": "1.7.2"
  }
 },
 "nbformat": 4,
 "nbformat_minor": 5
}
